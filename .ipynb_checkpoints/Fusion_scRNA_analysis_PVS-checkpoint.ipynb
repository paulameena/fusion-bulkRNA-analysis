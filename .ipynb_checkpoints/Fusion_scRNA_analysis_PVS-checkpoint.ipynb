{
 "cells": [
  {
   "cell_type": "markdown",
   "id": "4996dc6f",
   "metadata": {},
   "source": [
    "# scRNA-seq analysis with Scanpy #\n",
    "\n",
    "### Adapted from scanpy-tutorials.readthedocs.io/en/latest/pbmc3k.html\n"
   ]
  },
  {
   "cell_type": "code",
   "execution_count": 1,
   "id": "59232d62",
   "metadata": {
    "tags": []
   },
   "outputs": [],
   "source": [
    "import numpy as np\n",
    "import pandas as pd\n",
    "import scanpy as sc"
   ]
  },
  {
   "cell_type": "code",
   "execution_count": 2,
   "id": "185c23d3",
   "metadata": {
    "tags": []
   },
   "outputs": [
    {
     "name": "stdout",
     "output_type": "stream",
     "text": [
      "scanpy==1.9.8 anndata==0.9.2 umap==0.5.5 numpy==1.24.3 scipy==1.9.1 pandas==1.5.3 scikit-learn==1.2.2 statsmodels==0.14.0 pynndescent==0.5.11\n"
     ]
    }
   ],
   "source": [
    "sc.settings.verbosity = 3 #get hints\n",
    "sc.logging.print_header()\n",
    "sc.settings.set_figure_params(dpi=80, facecolor = 'white') #recommended figure paramters"
   ]
  },
  {
   "cell_type": "markdown",
   "id": "51c9ddbc",
   "metadata": {},
   "source": [
    "### Create result files (where results will be written to) in appropriate directory"
   ]
  },
  {
   "cell_type": "code",
   "execution_count": 3,
   "id": "e54430cf",
   "metadata": {},
   "outputs": [],
   "source": [
    "base_directory='OneDrive - case.edu/Scott Lab/rna-seq/'\n",
    "\n",
    "results_file1 = base_directory+ 'scRNA-analysis/fused_analyzed.h5ad'\n",
    "results_file2 = base_directory + 'scRNA-analysis/parental_analyzed.h5ad'\n",
    "results_file3 = base_directory +'scRNA-analysis/resistant_analyzed.h5ad'"
   ]
  },
  {
   "cell_type": "markdown",
   "id": "eb40ef53",
   "metadata": {},
   "source": [
    "### Read in count matrices into AnnData objects"
   ]
  },
  {
   "cell_type": "code",
   "execution_count": 4,
   "id": "9a627586",
   "metadata": {},
   "outputs": [
    {
     "name": "stdout",
     "output_type": "stream",
     "text": [
      "... reading from cache file cache/mnt-pan-SOM_CCCC_JGS25-shultesp-analysis-run_cellranger_count-run_count_fused-outs-filtered_feature_bc_matrix-matrix.h5ad\n"
     ]
    },
    {
     "name": "stderr",
     "output_type": "stream",
     "text": [
      "/home/pvs13/.usr/local/pioneer/python/3.10.4/lib/python3.10/site-packages/anndata/__init__.py:51: FutureWarning: `anndata.read` is deprecated, use `anndata.read_h5ad` instead. `ad.read` will be removed in mid 2024.\n",
      "  warnings.warn(\n"
     ]
    }
   ],
   "source": [
    "adata_fus = sc.read_10x_mtx(base_directory + 'run_cellranger_count/run_count_fused/outs/filtered_feature_bc_matrix/',\n",
    "                           var_names='gene_symbols',\n",
    "                           cache=True)"
   ]
  },
  {
   "cell_type": "code",
   "execution_count": 5,
   "id": "676660a0",
   "metadata": {},
   "outputs": [
    {
     "name": "stdout",
     "output_type": "stream",
     "text": [
      "... reading from cache file cache/mnt-pan-SOM_CCCC_JGS25-shultesp-analysis-run_cellranger_count-run_count_parental-outs-filtered_feature_bc_matrix-matrix.h5ad\n"
     ]
    },
    {
     "name": "stderr",
     "output_type": "stream",
     "text": [
      "/home/pvs13/.usr/local/pioneer/python/3.10.4/lib/python3.10/site-packages/anndata/__init__.py:51: FutureWarning: `anndata.read` is deprecated, use `anndata.read_h5ad` instead. `ad.read` will be removed in mid 2024.\n",
      "  warnings.warn(\n"
     ]
    }
   ],
   "source": [
    "adata_par = sc.read_10x_mtx(base_directory + 'run_cellranger_count/run_count_parental/outs/filtered_feature_bc_matrix/',\n",
    "                           var_names='gene_symbols',\n",
    "                           cache=True)"
   ]
  },
  {
   "cell_type": "code",
   "execution_count": 6,
   "id": "55714188",
   "metadata": {},
   "outputs": [
    {
     "name": "stdout",
     "output_type": "stream",
     "text": [
      "... reading from cache file cache/mnt-pan-SOM_CCCC_JGS25-shultesp-analysis-run_cellranger_count-run_count_resistant-outs-filtered_feature_bc_matrix-matrix.h5ad\n"
     ]
    },
    {
     "name": "stderr",
     "output_type": "stream",
     "text": [
      "/home/pvs13/.usr/local/pioneer/python/3.10.4/lib/python3.10/site-packages/anndata/__init__.py:51: FutureWarning: `anndata.read` is deprecated, use `anndata.read_h5ad` instead. `ad.read` will be removed in mid 2024.\n",
      "  warnings.warn(\n"
     ]
    }
   ],
   "source": [
    "adata_res = sc.read_10x_mtx(base_directory + 'run_cellranger_count/run_count_resistant/outs/filtered_feature_bc_matrix/',\n",
    "                           var_names='gene_symbols',\n",
    "                           cache=True)"
   ]
  },
  {
   "cell_type": "code",
   "execution_count": 7,
   "id": "8be4bb1d",
   "metadata": {},
   "outputs": [
    {
     "name": "stdout",
     "output_type": "stream",
     "text": [
      "AnnData object with n_obs × n_vars = 6044 × 36601\n",
      "    var: 'gene_ids', 'feature_types'\n",
      "AnnData object with n_obs × n_vars = 10353 × 36601\n",
      "    var: 'gene_ids', 'feature_types'\n",
      "AnnData object with n_obs × n_vars = 8513 × 36601\n",
      "    var: 'gene_ids', 'feature_types'\n"
     ]
    }
   ],
   "source": [
    "adata_fus.var_names_make_unique()\n",
    "adata_par.var_names_make_unique()\n",
    "adata_res.var_names_make_unique()\n",
    "\n",
    "print(adata_fus)\n",
    "print(adata_par)\n",
    "print(adata_res)"
   ]
  },
  {
   "cell_type": "markdown",
   "id": "ffa1ca59",
   "metadata": {},
   "source": [
    "## Preprocessing step 1: show those genes that yield the highest fraction of counts in each single cell, across all cells."
   ]
  },
  {
   "cell_type": "code",
   "execution_count": 26,
   "id": "f084913a",
   "metadata": {},
   "outputs": [],
   "source": [
    "##note all plotting steps are being moved to local file \"scRNA-analysis-plotting\"\n",
    "#sc.pl.highest_expr_genes(adata_fus, save=\"_fused\")\n",
    "#sc.pl.highest_expr_genes(adata_par, save=\"_parental\")\n",
    "#sc.pl.highest_expr_genes(adata_res, save=\"_resistant\")\n",
    "\n",
    "adata_fus.write_zarr(export_directory + \"initial_fusion_data_precleaning\")\n",
    "adata_par.write_zarr(export_directory + \"inital_parental_data_precleaning\")\n",
    "adata_res.write_zarr(export_directory + \"initial_resistant_data_precleaning\")"
   ]
  },
  {
   "cell_type": "markdown",
   "id": "2a405811",
   "metadata": {},
   "source": [
    "## Step 2: Basic filtering steps\n",
    "\n",
    "note: maybe split noncoding from coding and compare"
   ]
  },
  {
   "cell_type": "code",
   "execution_count": 9,
   "id": "587c66c6",
   "metadata": {},
   "outputs": [],
   "source": [
    "sc.pp.filter_cells(adata_fus, min_genes=200)\n",
    "sc.pp.filter_cells(adata_res, min_genes=200)\n",
    "sc.pp.filter_cells(adata_par, min_genes=200)"
   ]
  },
  {
   "cell_type": "code",
   "execution_count": 10,
   "id": "611e8fc6",
   "metadata": {},
   "outputs": [
    {
     "name": "stdout",
     "output_type": "stream",
     "text": [
      "filtered out 10602 genes that are detected in less than 3 cells\n",
      "filtered out 9195 genes that are detected in less than 3 cells\n",
      "filtered out 9441 genes that are detected in less than 3 cells\n"
     ]
    }
   ],
   "source": [
    "sc.pp.filter_genes(adata_fus, min_cells=3)\n",
    "sc.pp.filter_genes(adata_par, min_cells=3)\n",
    "sc.pp.filter_genes(adata_res, min_cells=3)"
   ]
  },
  {
   "cell_type": "markdown",
   "id": "21b19f99",
   "metadata": {},
   "source": [
    "## Step 3: QC w/ Mitochondrial (MT) genes\n",
    "\n",
    "which genes/transcripts would have GFP/RFP attached to it? --> manually add to gene count table to validate separation of populations --> double check as QC\n",
    "\n",
    "also: map overall count plots to see if distributions overlap"
   ]
  },
  {
   "cell_type": "code",
   "execution_count": 11,
   "id": "49457f3d",
   "metadata": {},
   "outputs": [],
   "source": [
    "adata_fus.var['mt'] = adata_fus.var_names.str.startswith('MT-')  # annotate the group of mitochondrial genes as 'mt'\n",
    "adata_par.var['mt'] = adata_par.var_names.str.startswith('MT-')  # annotate the group of mitochondrial genes as 'mt'\n",
    "adata_res.var['mt'] = adata_res.var_names.str.startswith('MT-')  # annotate the group of mitochondrial genes as 'mt'\n",
    "\n",
    "sc.pp.calculate_qc_metrics(adata_fus, qc_vars=['mt'], percent_top=None, log1p=False, inplace=True) #Calculate QC metrics\n",
    "sc.pp.calculate_qc_metrics(adata_par, qc_vars=['mt'], percent_top=None, log1p=False, inplace=True)\n",
    "sc.pp.calculate_qc_metrics(adata_res, qc_vars=['mt'], percent_top=None, log1p=False, inplace=True)"
   ]
  },
  {
   "cell_type": "markdown",
   "id": "479fa2e0",
   "metadata": {},
   "source": [
    "### Violin plots of relevant QC metrics"
   ]
  },
  {
   "cell_type": "code",
   "execution_count": 12,
   "id": "50140db9",
   "metadata": {},
   "outputs": [
    {
     "name": "stdout",
     "output_type": "stream",
     "text": [
      "WARNING: saving figure to file figures/violin_fused.pdf\n"
     ]
    },
    {
     "name": "stderr",
     "output_type": "stream",
     "text": [
      "/home/pvs13/.usr/local/pioneer/python/3.10.4/lib/python3.10/site-packages/scanpy/plotting/_utils.py:313: UserWarning: Matplotlib is currently using agg, which is a non-GUI backend, so cannot show the figure.\n",
      "  pl.show()\n"
     ]
    },
    {
     "name": "stdout",
     "output_type": "stream",
     "text": [
      "WARNING: saving figure to file figures/violin_parental.pdf\n"
     ]
    },
    {
     "name": "stderr",
     "output_type": "stream",
     "text": [
      "/home/pvs13/.usr/local/pioneer/python/3.10.4/lib/python3.10/site-packages/scanpy/plotting/_utils.py:313: UserWarning: Matplotlib is currently using agg, which is a non-GUI backend, so cannot show the figure.\n",
      "  pl.show()\n"
     ]
    },
    {
     "name": "stdout",
     "output_type": "stream",
     "text": [
      "WARNING: saving figure to file figures/violin_resistant.pdf\n"
     ]
    },
    {
     "name": "stderr",
     "output_type": "stream",
     "text": [
      "/home/pvs13/.usr/local/pioneer/python/3.10.4/lib/python3.10/site-packages/scanpy/plotting/_utils.py:313: UserWarning: Matplotlib is currently using agg, which is a non-GUI backend, so cannot show the figure.\n",
      "  pl.show()\n"
     ]
    }
   ],
   "source": [
    "sc.pl.violin(adata_fus, ['n_genes_by_counts', 'total_counts', 'pct_counts_mt'],\n",
    "             jitter=0.4, multi_panel=True, save='_fused')\n",
    "sc.pl.violin(adata_par, ['n_genes_by_counts', 'total_counts', 'pct_counts_mt'],\n",
    "             jitter=0.4, multi_panel=True, save='_parental')\n",
    "sc.pl.violin(adata_res, ['n_genes_by_counts', 'total_counts', 'pct_counts_mt'],\n",
    "             jitter=0.4, multi_panel=True, save='_resistant')\n"
   ]
  },
  {
   "cell_type": "markdown",
   "id": "5bd52711",
   "metadata": {},
   "source": [
    "### Use scatterplots to visualize distribution of overall gene-counts and mt-gene counts"
   ]
  },
  {
   "cell_type": "code",
   "execution_count": 13,
   "id": "3c79d8c6",
   "metadata": {},
   "outputs": [
    {
     "name": "stdout",
     "output_type": "stream",
     "text": [
      "WARNING: saving figure to file figures/scatterpct_mt_genes_fused.pdf\n",
      "WARNING: saving figure to file figures/scatteroveral_gene_count_fused.pdf\n"
     ]
    },
    {
     "name": "stderr",
     "output_type": "stream",
     "text": [
      "/home/pvs13/.usr/local/pioneer/python/3.10.4/lib/python3.10/site-packages/scanpy/plotting/_utils.py:313: UserWarning: Matplotlib is currently using agg, which is a non-GUI backend, so cannot show the figure.\n",
      "  pl.show()\n",
      "/home/pvs13/.usr/local/pioneer/python/3.10.4/lib/python3.10/site-packages/scanpy/plotting/_utils.py:313: UserWarning: Matplotlib is currently using agg, which is a non-GUI backend, so cannot show the figure.\n",
      "  pl.show()\n"
     ]
    },
    {
     "name": "stdout",
     "output_type": "stream",
     "text": [
      "WARNING: saving figure to file figures/scatterpct_mt_genes_parental.pdf\n",
      "WARNING: saving figure to file figures/scatteroveral_gene_count_parental.pdf\n"
     ]
    },
    {
     "name": "stderr",
     "output_type": "stream",
     "text": [
      "/home/pvs13/.usr/local/pioneer/python/3.10.4/lib/python3.10/site-packages/scanpy/plotting/_utils.py:313: UserWarning: Matplotlib is currently using agg, which is a non-GUI backend, so cannot show the figure.\n",
      "  pl.show()\n"
     ]
    },
    {
     "name": "stdout",
     "output_type": "stream",
     "text": [
      "WARNING: saving figure to file figures/scatterpct_mt_genes_resistant.pdf\n"
     ]
    },
    {
     "name": "stderr",
     "output_type": "stream",
     "text": [
      "/home/pvs13/.usr/local/pioneer/python/3.10.4/lib/python3.10/site-packages/scanpy/plotting/_utils.py:313: UserWarning: Matplotlib is currently using agg, which is a non-GUI backend, so cannot show the figure.\n",
      "  pl.show()\n",
      "/home/pvs13/.usr/local/pioneer/python/3.10.4/lib/python3.10/site-packages/scanpy/plotting/_utils.py:313: UserWarning: Matplotlib is currently using agg, which is a non-GUI backend, so cannot show the figure.\n",
      "  pl.show()\n"
     ]
    },
    {
     "name": "stdout",
     "output_type": "stream",
     "text": [
      "WARNING: saving figure to file figures/scatteroveral_gene_count_resistant.pdf\n"
     ]
    },
    {
     "name": "stderr",
     "output_type": "stream",
     "text": [
      "/home/pvs13/.usr/local/pioneer/python/3.10.4/lib/python3.10/site-packages/scanpy/plotting/_utils.py:313: UserWarning: Matplotlib is currently using agg, which is a non-GUI backend, so cannot show the figure.\n",
      "  pl.show()\n"
     ]
    }
   ],
   "source": [
    "sc.pl.scatter(adata_fus, x='total_counts', y='pct_counts_mt', save=\"pct_mt_genes_fused\")\n",
    "sc.pl.scatter(adata_fus, x='total_counts', y='n_genes_by_counts', save = \"overal_gene_count_fused\")\n",
    "\n",
    "sc.pl.scatter(adata_par, x='total_counts', y='pct_counts_mt', save=\"pct_mt_genes_parental\")\n",
    "sc.pl.scatter(adata_par, x='total_counts', y='n_genes_by_counts', save = \"overal_gene_count_parental\")\n",
    "\n",
    "sc.pl.scatter(adata_res, x='total_counts', y='pct_counts_mt', save=\"pct_mt_genes_resistant\")\n",
    "sc.pl.scatter(adata_res, x='total_counts', y='n_genes_by_counts', save = \"overal_gene_count_resistant\")"
   ]
  },
  {
   "cell_type": "markdown",
   "id": "4b927e15",
   "metadata": {},
   "source": [
    "### Filter data to remove outliers\n",
    "\n",
    "Talked to Arda for advice, who said: \"based on these \\[results\\] I would choose min number of genes identified as 1000, max total count as 70k~75k and pct mt genes as 40%\"\n",
    "\n",
    "alternative that isn't eyeballing it:\n",
    "adjust so that include 90% of data area of graph to reduce \"technical noise\" :/\n",
    "\n",
    "This translates to:"
   ]
  },
  {
   "cell_type": "code",
   "execution_count": 14,
   "id": "78dc9a68",
   "metadata": {},
   "outputs": [],
   "source": [
    "adata_fus_filtered = adata_fus[adata_fus.obs.total_counts<75000,:]\n",
    "adata_fus_filtered = adata_fus_filtered[adata_fus_filtered.obs.n_genes >1000, :]\n",
    "adata_fus_filtered = adata_fus_filtered[adata_fus_filtered.obs.pct_counts_mt < 40, :]"
   ]
  },
  {
   "cell_type": "code",
   "execution_count": 15,
   "id": "039b6814",
   "metadata": {},
   "outputs": [],
   "source": [
    "adata_par_filtered = adata_par[adata_par.obs.total_counts<75000,:]\n",
    "adata_par_filtered = adata_par_filtered[adata_par_filtered.obs.n_genes >1000, :]\n",
    "adata_par_filtered = adata_par_filtered[adata_par_filtered.obs.pct_counts_mt < 40, :]"
   ]
  },
  {
   "cell_type": "code",
   "execution_count": 16,
   "id": "d1e18658",
   "metadata": {},
   "outputs": [],
   "source": [
    "adata_res_filtered = adata_res[adata_res.obs.total_counts<75000,:]\n",
    "adata_res_filtered = adata_res_filtered[adata_res_filtered.obs.n_genes >1000, :]\n",
    "adata_res_filtered = adata_res_filtered[adata_res_filtered.obs.pct_counts_mt < 40, :]"
   ]
  },
  {
   "cell_type": "markdown",
   "id": "22714ce8",
   "metadata": {},
   "source": [
    "### Repeat Scatterplots from Above to visualize effects of filtering"
   ]
  },
  {
   "cell_type": "code",
   "execution_count": 17,
   "id": "45dda69e",
   "metadata": {},
   "outputs": [
    {
     "name": "stdout",
     "output_type": "stream",
     "text": [
      "WARNING: saving figure to file figures/violin_fused_filtered.pdf\n"
     ]
    },
    {
     "name": "stderr",
     "output_type": "stream",
     "text": [
      "/home/pvs13/.usr/local/pioneer/python/3.10.4/lib/python3.10/site-packages/scanpy/plotting/_utils.py:313: UserWarning: Matplotlib is currently using agg, which is a non-GUI backend, so cannot show the figure.\n",
      "  pl.show()\n"
     ]
    },
    {
     "name": "stdout",
     "output_type": "stream",
     "text": [
      "WARNING: saving figure to file figures/violin_parental_filtered.pdf\n"
     ]
    },
    {
     "name": "stderr",
     "output_type": "stream",
     "text": [
      "/home/pvs13/.usr/local/pioneer/python/3.10.4/lib/python3.10/site-packages/scanpy/plotting/_utils.py:313: UserWarning: Matplotlib is currently using agg, which is a non-GUI backend, so cannot show the figure.\n",
      "  pl.show()\n"
     ]
    },
    {
     "name": "stdout",
     "output_type": "stream",
     "text": [
      "WARNING: saving figure to file figures/violin_resistant_filtered.pdf\n",
      "WARNING: saving figure to file figures/scatterpct_mt_genes_fused_filtered.pdf\n"
     ]
    },
    {
     "name": "stderr",
     "output_type": "stream",
     "text": [
      "/home/pvs13/.usr/local/pioneer/python/3.10.4/lib/python3.10/site-packages/scanpy/plotting/_utils.py:313: UserWarning: Matplotlib is currently using agg, which is a non-GUI backend, so cannot show the figure.\n",
      "  pl.show()\n",
      "/home/pvs13/.usr/local/pioneer/python/3.10.4/lib/python3.10/site-packages/scanpy/plotting/_utils.py:313: UserWarning: Matplotlib is currently using agg, which is a non-GUI backend, so cannot show the figure.\n",
      "  pl.show()\n"
     ]
    },
    {
     "name": "stdout",
     "output_type": "stream",
     "text": [
      "WARNING: saving figure to file figures/scatteroveral_gene_count_fused_filtered.pdf\n",
      "WARNING: saving figure to file figures/scatterpct_mt_genes_parental_filtered.pdf\n"
     ]
    },
    {
     "name": "stderr",
     "output_type": "stream",
     "text": [
      "/home/pvs13/.usr/local/pioneer/python/3.10.4/lib/python3.10/site-packages/scanpy/plotting/_utils.py:313: UserWarning: Matplotlib is currently using agg, which is a non-GUI backend, so cannot show the figure.\n",
      "  pl.show()\n"
     ]
    },
    {
     "name": "stdout",
     "output_type": "stream",
     "text": [
      "WARNING: saving figure to file figures/scatteroveral_gene_count_parental_filtered.pdf\n"
     ]
    },
    {
     "name": "stderr",
     "output_type": "stream",
     "text": [
      "/home/pvs13/.usr/local/pioneer/python/3.10.4/lib/python3.10/site-packages/scanpy/plotting/_utils.py:313: UserWarning: Matplotlib is currently using agg, which is a non-GUI backend, so cannot show the figure.\n",
      "  pl.show()\n"
     ]
    },
    {
     "name": "stdout",
     "output_type": "stream",
     "text": [
      "WARNING: saving figure to file figures/scatterpct_mt_genes_resistant_filtered.pdf\n"
     ]
    },
    {
     "name": "stderr",
     "output_type": "stream",
     "text": [
      "/home/pvs13/.usr/local/pioneer/python/3.10.4/lib/python3.10/site-packages/scanpy/plotting/_utils.py:313: UserWarning: Matplotlib is currently using agg, which is a non-GUI backend, so cannot show the figure.\n",
      "  pl.show()\n"
     ]
    },
    {
     "name": "stdout",
     "output_type": "stream",
     "text": [
      "WARNING: saving figure to file figures/scatteroveral_gene_count_resistant_filtered.pdf\n"
     ]
    },
    {
     "name": "stderr",
     "output_type": "stream",
     "text": [
      "/home/pvs13/.usr/local/pioneer/python/3.10.4/lib/python3.10/site-packages/scanpy/plotting/_utils.py:313: UserWarning: Matplotlib is currently using agg, which is a non-GUI backend, so cannot show the figure.\n",
      "  pl.show()\n",
      "/home/pvs13/.usr/local/pioneer/python/3.10.4/lib/python3.10/site-packages/scanpy/plotting/_utils.py:313: UserWarning: Matplotlib is currently using agg, which is a non-GUI backend, so cannot show the figure.\n",
      "  pl.show()\n"
     ]
    }
   ],
   "source": [
    "sc.pl.violin(adata_fus_filtered, ['n_genes_by_counts', 'total_counts', 'pct_counts_mt'],\n",
    "             jitter=0.4, multi_panel=True, save='_fused_filtered')\n",
    "sc.pl.violin(adata_par_filtered, ['n_genes_by_counts', 'total_counts', 'pct_counts_mt'],\n",
    "             jitter=0.4, multi_panel=True, save='_parental_filtered')\n",
    "sc.pl.violin(adata_res_filtered, ['n_genes_by_counts', 'total_counts', 'pct_counts_mt'],\n",
    "             jitter=0.4, multi_panel=True, save='_resistant_filtered')\n",
    "\n",
    "sc.pl.scatter(adata_fus_filtered, x='total_counts', y='pct_counts_mt', save=\"pct_mt_genes_fused_filtered\")\n",
    "sc.pl.scatter(adata_fus_filtered, x='total_counts', y='n_genes_by_counts', save = \"overal_gene_count_fused_filtered\")\n",
    "\n",
    "sc.pl.scatter(adata_par_filtered, x='total_counts', y='pct_counts_mt', save=\"pct_mt_genes_parental_filtered\")\n",
    "sc.pl.scatter(adata_par_filtered, x='total_counts', y='n_genes_by_counts', save = \"overal_gene_count_parental_filtered\")\n",
    "\n",
    "sc.pl.scatter(adata_res_filtered, x='total_counts', y='pct_counts_mt', save=\"pct_mt_genes_resistant_filtered\")\n",
    "sc.pl.scatter(adata_res_filtered, x='total_counts', y='n_genes_by_counts', save = \"overal_gene_count_resistant_filtered\")\n"
   ]
  },
  {
   "cell_type": "markdown",
   "id": "0e23b96b",
   "metadata": {},
   "source": [
    "### Normalize total counts + logarithmize the data\n",
    "\n",
    "The tutorial has the target sum to 1e4 (presumably based on the n_genes_by_counts graph) and based on the higher counts in this study I adjust this to 1e5.\n",
    "\n",
    "arda: \"million is a good number\" --> 1e6 now thx"
   ]
  },
  {
   "cell_type": "code",
   "execution_count": 18,
   "id": "8905e4f7",
   "metadata": {},
   "outputs": [
    {
     "name": "stderr",
     "output_type": "stream",
     "text": [
      "/home/pvs13/.usr/local/pioneer/python/3.10.4/lib/python3.10/site-packages/scanpy/preprocessing/_normalization.py:169: UserWarning: Received a view of an AnnData. Making a copy.\n",
      "  view_to_actual(adata)\n"
     ]
    },
    {
     "name": "stdout",
     "output_type": "stream",
     "text": [
      "normalizing counts per cell\n",
      "    finished (0:00:00)\n",
      "normalizing counts per cell\n",
      "    finished (0:00:00)\n",
      "normalizing counts per cell\n",
      "    finished (0:00:00)\n"
     ]
    }
   ],
   "source": [
    "sc.pp.normalize_total(adata_fus_filtered, target_sum=1e6)\n",
    "sc.pp.normalize_total(adata_par_filtered, target_sum=1e6)\n",
    "sc.pp.normalize_total(adata_res_filtered, target_sum=1e6)"
   ]
  },
  {
   "cell_type": "markdown",
   "id": "70977571",
   "metadata": {},
   "source": [
    "arda: there are ways to shift threshold/min value based on library size. \n",
    "\n",
    "rowan: could add 100 (1/2 of 200, which is the minimum value pre-normalization)\n",
    "\n",
    "arda: add .1? b/c .1 < 1\n",
    "\n",
    "rowan: could also be fine. TBD"
   ]
  },
  {
   "cell_type": "code",
   "execution_count": 19,
   "id": "b8a3d021",
   "metadata": {},
   "outputs": [],
   "source": [
    "sc.pp.log1p(adata_fus_filtered)\n",
    "sc.pp.log1p(adata_par_filtered)\n",
    "sc.pp.log1p(adata_res_filtered)"
   ]
  },
  {
   "cell_type": "markdown",
   "id": "d8a073b2",
   "metadata": {},
   "source": [
    "### Identify the highly_variable genes\n",
    "\n",
    "when plotting-- make sure axes are identical to avoid visual distortion"
   ]
  },
  {
   "cell_type": "code",
   "execution_count": 20,
   "id": "85a45084",
   "metadata": {},
   "outputs": [
    {
     "name": "stdout",
     "output_type": "stream",
     "text": [
      "extracting highly variable genes\n",
      "    finished (0:00:00)\n",
      "--> added\n",
      "    'highly_variable', boolean vector (adata.var)\n",
      "    'means', float vector (adata.var)\n",
      "    'dispersions', float vector (adata.var)\n",
      "    'dispersions_norm', float vector (adata.var)\n",
      "extracting highly variable genes\n",
      "    finished (0:00:00)\n",
      "--> added\n",
      "    'highly_variable', boolean vector (adata.var)\n",
      "    'means', float vector (adata.var)\n",
      "    'dispersions', float vector (adata.var)\n",
      "    'dispersions_norm', float vector (adata.var)\n",
      "extracting highly variable genes\n",
      "    finished (0:00:00)\n",
      "--> added\n",
      "    'highly_variable', boolean vector (adata.var)\n",
      "    'means', float vector (adata.var)\n",
      "    'dispersions', float vector (adata.var)\n",
      "    'dispersions_norm', float vector (adata.var)\n"
     ]
    }
   ],
   "source": [
    "sc.pp.highly_variable_genes(adata_fus_filtered, min_mean=0.0125, max_mean=3, min_disp=0.5)\n",
    "sc.pp.highly_variable_genes(adata_par_filtered, min_mean=0.0125, max_mean=3, min_disp=0.5)\n",
    "sc.pp.highly_variable_genes(adata_res_filtered, min_mean=0.0125, max_mean=3, min_disp=0.5)"
   ]
  },
  {
   "cell_type": "code",
   "execution_count": 21,
   "id": "020b9d5e",
   "metadata": {},
   "outputs": [
    {
     "name": "stdout",
     "output_type": "stream",
     "text": [
      "WARNING: saving figure to file figures/filter_genes_dispersion_fused.pdf\n",
      "WARNING: saving figure to file figures/filter_genes_dispersion_parental.pdf\n"
     ]
    },
    {
     "name": "stderr",
     "output_type": "stream",
     "text": [
      "/home/pvs13/.usr/local/pioneer/python/3.10.4/lib/python3.10/site-packages/scanpy/plotting/_utils.py:313: UserWarning: Matplotlib is currently using agg, which is a non-GUI backend, so cannot show the figure.\n",
      "  pl.show()\n"
     ]
    },
    {
     "name": "stdout",
     "output_type": "stream",
     "text": [
      "WARNING: saving figure to file figures/filter_genes_dispersion_resistant.pdf\n"
     ]
    },
    {
     "name": "stderr",
     "output_type": "stream",
     "text": [
      "/home/pvs13/.usr/local/pioneer/python/3.10.4/lib/python3.10/site-packages/scanpy/plotting/_utils.py:313: UserWarning: Matplotlib is currently using agg, which is a non-GUI backend, so cannot show the figure.\n",
      "  pl.show()\n",
      "/home/pvs13/.usr/local/pioneer/python/3.10.4/lib/python3.10/site-packages/scanpy/plotting/_utils.py:313: UserWarning: Matplotlib is currently using agg, which is a non-GUI backend, so cannot show the figure.\n",
      "  pl.show()\n"
     ]
    }
   ],
   "source": [
    "sc.pl.highly_variable_genes(adata_fus_filtered, save=\"_fused\")\n",
    "sc.pl.highly_variable_genes(adata_par_filtered, save=\"_parental\")\n",
    "sc.pl.highly_variable_genes(adata_res_filtered, save=\"_resistant\")"
   ]
  },
  {
   "cell_type": "markdown",
   "id": "b1db02cb",
   "metadata": {},
   "source": [
    "### Save the current state of the adata objects"
   ]
  },
  {
   "cell_type": "code",
   "execution_count": 22,
   "id": "b84202d9",
   "metadata": {},
   "outputs": [],
   "source": [
    "adata_fus_filtered.raw = adata_fus_filtered\n",
    "adata_res_filtered.raw = adata_res_filtered\n",
    "adata_par_filtered.raw = adata_par_filtered"
   ]
  },
  {
   "cell_type": "markdown",
   "id": "40c0dda8",
   "metadata": {},
   "source": [
    "### Filter to only include highly expressed genes, regress effects of total counts and mt_genes, scale data to unit variance"
   ]
  },
  {
   "cell_type": "code",
   "execution_count": 23,
   "id": "373ed90a",
   "metadata": {},
   "outputs": [
    {
     "name": "stdout",
     "output_type": "stream",
     "text": [
      "regressing out ['total_counts', 'pct_counts_mt']\n",
      "    sparse input is densified and may lead to high memory use\n",
      "    finished (0:00:30)\n"
     ]
    }
   ],
   "source": [
    "adata_fus_filtered = adata_fus_filtered[:, adata_fus_filtered.var.highly_variable]\n",
    "sc.pp.regress_out(adata_fus_filtered, ['total_counts', 'pct_counts_mt'])\n",
    "sc.pp.scale(adata_fus_filtered, max_value=10)"
   ]
  },
  {
   "cell_type": "code",
   "execution_count": 24,
   "id": "23a5431a",
   "metadata": {},
   "outputs": [
    {
     "name": "stdout",
     "output_type": "stream",
     "text": [
      "regressing out ['total_counts', 'pct_counts_mt']\n",
      "    sparse input is densified and may lead to high memory use\n",
      "    finished (0:00:44)\n"
     ]
    }
   ],
   "source": [
    "adata_par_filtered = adata_par_filtered[:, adata_par_filtered.var.highly_variable]\n",
    "sc.pp.regress_out(adata_par_filtered, ['total_counts', 'pct_counts_mt'])\n",
    "sc.pp.scale(adata_par_filtered, max_value=10)"
   ]
  },
  {
   "cell_type": "code",
   "execution_count": 25,
   "id": "2c2013b0",
   "metadata": {},
   "outputs": [
    {
     "name": "stdout",
     "output_type": "stream",
     "text": [
      "regressing out ['total_counts', 'pct_counts_mt']\n",
      "    sparse input is densified and may lead to high memory use\n"
     ]
    },
    {
     "ename": "KeyboardInterrupt",
     "evalue": "",
     "output_type": "error",
     "traceback": [
      "\u001b[0;31m---------------------------------------------------------------------------\u001b[0m",
      "\u001b[0;31mKeyboardInterrupt\u001b[0m                         Traceback (most recent call last)",
      "Cell \u001b[0;32mIn [25], line 2\u001b[0m\n\u001b[1;32m      1\u001b[0m adata_res_filtered \u001b[38;5;241m=\u001b[39m adata_res_filtered[:, adata_res_filtered\u001b[38;5;241m.\u001b[39mvar\u001b[38;5;241m.\u001b[39mhighly_variable]\n\u001b[0;32m----> 2\u001b[0m \u001b[43msc\u001b[49m\u001b[38;5;241;43m.\u001b[39;49m\u001b[43mpp\u001b[49m\u001b[38;5;241;43m.\u001b[39;49m\u001b[43mregress_out\u001b[49m\u001b[43m(\u001b[49m\u001b[43madata_res_filtered\u001b[49m\u001b[43m,\u001b[49m\u001b[43m \u001b[49m\u001b[43m[\u001b[49m\u001b[38;5;124;43m'\u001b[39;49m\u001b[38;5;124;43mtotal_counts\u001b[39;49m\u001b[38;5;124;43m'\u001b[39;49m\u001b[43m,\u001b[49m\u001b[43m \u001b[49m\u001b[38;5;124;43m'\u001b[39;49m\u001b[38;5;124;43mpct_counts_mt\u001b[39;49m\u001b[38;5;124;43m'\u001b[39;49m\u001b[43m]\u001b[49m\u001b[43m)\u001b[49m\n\u001b[1;32m      3\u001b[0m sc\u001b[38;5;241m.\u001b[39mpp\u001b[38;5;241m.\u001b[39mscale(adata_res_filtered, max_value\u001b[38;5;241m=\u001b[39m\u001b[38;5;241m10\u001b[39m)\n",
      "File \u001b[0;32m~/.usr/local/pioneer/python/3.10.4/lib/python3.10/site-packages/scanpy/preprocessing/_simple.py:667\u001b[0m, in \u001b[0;36mregress_out\u001b[0;34m(adata, keys, n_jobs, copy)\u001b[0m\n\u001b[1;32m    664\u001b[0m \u001b[38;5;28;01mfrom\u001b[39;00m \u001b[38;5;21;01mjoblib\u001b[39;00m \u001b[38;5;28;01mimport\u001b[39;00m Parallel, delayed\n\u001b[1;32m    666\u001b[0m \u001b[38;5;66;03m# TODO: figure out how to test that this doesn't oversubscribe resources\u001b[39;00m\n\u001b[0;32m--> 667\u001b[0m res \u001b[38;5;241m=\u001b[39m \u001b[43mParallel\u001b[49m\u001b[43m(\u001b[49m\u001b[43mn_jobs\u001b[49m\u001b[38;5;241;43m=\u001b[39;49m\u001b[43mn_jobs\u001b[49m\u001b[43m)\u001b[49m\u001b[43m(\u001b[49m\u001b[43mdelayed\u001b[49m\u001b[43m(\u001b[49m\u001b[43m_regress_out_chunk\u001b[49m\u001b[43m)\u001b[49m\u001b[43m(\u001b[49m\u001b[43mtask\u001b[49m\u001b[43m)\u001b[49m\u001b[43m \u001b[49m\u001b[38;5;28;43;01mfor\u001b[39;49;00m\u001b[43m \u001b[49m\u001b[43mtask\u001b[49m\u001b[43m \u001b[49m\u001b[38;5;129;43;01min\u001b[39;49;00m\u001b[43m \u001b[49m\u001b[43mtasks\u001b[49m\u001b[43m)\u001b[49m\n\u001b[1;32m    669\u001b[0m \u001b[38;5;66;03m# res is a list of vectors (each corresponding to a regressed gene column).\u001b[39;00m\n\u001b[1;32m    670\u001b[0m \u001b[38;5;66;03m# The transpose is needed to get the matrix in the shape needed\u001b[39;00m\n\u001b[1;32m    671\u001b[0m adata\u001b[38;5;241m.\u001b[39mX \u001b[38;5;241m=\u001b[39m np\u001b[38;5;241m.\u001b[39mvstack(res)\u001b[38;5;241m.\u001b[39mT\u001b[38;5;241m.\u001b[39mastype(adata\u001b[38;5;241m.\u001b[39mX\u001b[38;5;241m.\u001b[39mdtype)\n",
      "File \u001b[0;32m~/.usr/local/pioneer/python/3.10.4/lib/python3.10/site-packages/joblib/parallel.py:1863\u001b[0m, in \u001b[0;36mParallel.__call__\u001b[0;34m(self, iterable)\u001b[0m\n\u001b[1;32m   1861\u001b[0m     output \u001b[38;5;241m=\u001b[39m \u001b[38;5;28mself\u001b[39m\u001b[38;5;241m.\u001b[39m_get_sequential_output(iterable)\n\u001b[1;32m   1862\u001b[0m     \u001b[38;5;28mnext\u001b[39m(output)\n\u001b[0;32m-> 1863\u001b[0m     \u001b[38;5;28;01mreturn\u001b[39;00m output \u001b[38;5;28;01mif\u001b[39;00m \u001b[38;5;28mself\u001b[39m\u001b[38;5;241m.\u001b[39mreturn_generator \u001b[38;5;28;01melse\u001b[39;00m \u001b[38;5;28;43mlist\u001b[39;49m\u001b[43m(\u001b[49m\u001b[43moutput\u001b[49m\u001b[43m)\u001b[49m\n\u001b[1;32m   1865\u001b[0m \u001b[38;5;66;03m# Let's create an ID that uniquely identifies the current call. If the\u001b[39;00m\n\u001b[1;32m   1866\u001b[0m \u001b[38;5;66;03m# call is interrupted early and that the same instance is immediately\u001b[39;00m\n\u001b[1;32m   1867\u001b[0m \u001b[38;5;66;03m# re-used, this id will be used to prevent workers that were\u001b[39;00m\n\u001b[1;32m   1868\u001b[0m \u001b[38;5;66;03m# concurrently finalizing a task from the previous call to run the\u001b[39;00m\n\u001b[1;32m   1869\u001b[0m \u001b[38;5;66;03m# callback.\u001b[39;00m\n\u001b[1;32m   1870\u001b[0m \u001b[38;5;28;01mwith\u001b[39;00m \u001b[38;5;28mself\u001b[39m\u001b[38;5;241m.\u001b[39m_lock:\n",
      "File \u001b[0;32m~/.usr/local/pioneer/python/3.10.4/lib/python3.10/site-packages/joblib/parallel.py:1792\u001b[0m, in \u001b[0;36mParallel._get_sequential_output\u001b[0;34m(self, iterable)\u001b[0m\n\u001b[1;32m   1790\u001b[0m \u001b[38;5;28mself\u001b[39m\u001b[38;5;241m.\u001b[39mn_dispatched_batches \u001b[38;5;241m+\u001b[39m\u001b[38;5;241m=\u001b[39m \u001b[38;5;241m1\u001b[39m\n\u001b[1;32m   1791\u001b[0m \u001b[38;5;28mself\u001b[39m\u001b[38;5;241m.\u001b[39mn_dispatched_tasks \u001b[38;5;241m+\u001b[39m\u001b[38;5;241m=\u001b[39m \u001b[38;5;241m1\u001b[39m\n\u001b[0;32m-> 1792\u001b[0m res \u001b[38;5;241m=\u001b[39m \u001b[43mfunc\u001b[49m\u001b[43m(\u001b[49m\u001b[38;5;241;43m*\u001b[39;49m\u001b[43margs\u001b[49m\u001b[43m,\u001b[49m\u001b[43m \u001b[49m\u001b[38;5;241;43m*\u001b[39;49m\u001b[38;5;241;43m*\u001b[39;49m\u001b[43mkwargs\u001b[49m\u001b[43m)\u001b[49m\n\u001b[1;32m   1793\u001b[0m \u001b[38;5;28mself\u001b[39m\u001b[38;5;241m.\u001b[39mn_completed_tasks \u001b[38;5;241m+\u001b[39m\u001b[38;5;241m=\u001b[39m \u001b[38;5;241m1\u001b[39m\n\u001b[1;32m   1794\u001b[0m \u001b[38;5;28mself\u001b[39m\u001b[38;5;241m.\u001b[39mprint_progress()\n",
      "File \u001b[0;32m~/.usr/local/pioneer/python/3.10.4/lib/python3.10/site-packages/scanpy/preprocessing/_simple.py:701\u001b[0m, in \u001b[0;36m_regress_out_chunk\u001b[0;34m(data)\u001b[0m\n\u001b[1;32m    697\u001b[0m     regres \u001b[38;5;241m=\u001b[39m regressors\n\u001b[1;32m    698\u001b[0m \u001b[38;5;28;01mtry\u001b[39;00m:\n\u001b[1;32m    699\u001b[0m     result \u001b[38;5;241m=\u001b[39m \u001b[43msm\u001b[49m\u001b[38;5;241;43m.\u001b[39;49m\u001b[43mGLM\u001b[49m\u001b[43m(\u001b[49m\n\u001b[1;32m    700\u001b[0m \u001b[43m        \u001b[49m\u001b[43mdata_chunk\u001b[49m\u001b[43m[\u001b[49m\u001b[43m:\u001b[49m\u001b[43m,\u001b[49m\u001b[43m \u001b[49m\u001b[43mcol_index\u001b[49m\u001b[43m]\u001b[49m\u001b[43m,\u001b[49m\u001b[43m \u001b[49m\u001b[43mregres\u001b[49m\u001b[43m,\u001b[49m\u001b[43m \u001b[49m\u001b[43mfamily\u001b[49m\u001b[38;5;241;43m=\u001b[39;49m\u001b[43msm\u001b[49m\u001b[38;5;241;43m.\u001b[39;49m\u001b[43mfamilies\u001b[49m\u001b[38;5;241;43m.\u001b[39;49m\u001b[43mGaussian\u001b[49m\u001b[43m(\u001b[49m\u001b[43m)\u001b[49m\n\u001b[0;32m--> 701\u001b[0m \u001b[43m    \u001b[49m\u001b[43m)\u001b[49m\u001b[38;5;241;43m.\u001b[39;49m\u001b[43mfit\u001b[49m\u001b[43m(\u001b[49m\u001b[43m)\u001b[49m\n\u001b[1;32m    702\u001b[0m     new_column \u001b[38;5;241m=\u001b[39m result\u001b[38;5;241m.\u001b[39mresid_response\n\u001b[1;32m    703\u001b[0m \u001b[38;5;28;01mexcept\u001b[39;00m PerfectSeparationError:  \u001b[38;5;66;03m# this emulates R's behavior\u001b[39;00m\n",
      "File \u001b[0;32m~/.usr/local/pioneer/python/3.10.4/lib/python3.10/site-packages/statsmodels/genmod/generalized_linear_model.py:1192\u001b[0m, in \u001b[0;36mGLM.fit\u001b[0;34m(self, start_params, maxiter, method, tol, scale, cov_type, cov_kwds, use_t, full_output, disp, max_start_irls, **kwargs)\u001b[0m\n\u001b[1;32m   1190\u001b[0m     \u001b[38;5;28;01mif\u001b[39;00m cov_type\u001b[38;5;241m.\u001b[39mlower() \u001b[38;5;241m==\u001b[39m \u001b[38;5;124m'\u001b[39m\u001b[38;5;124meim\u001b[39m\u001b[38;5;124m'\u001b[39m:\n\u001b[1;32m   1191\u001b[0m         cov_type \u001b[38;5;241m=\u001b[39m \u001b[38;5;124m'\u001b[39m\u001b[38;5;124mnonrobust\u001b[39m\u001b[38;5;124m'\u001b[39m\n\u001b[0;32m-> 1192\u001b[0m     \u001b[38;5;28;01mreturn\u001b[39;00m \u001b[38;5;28;43mself\u001b[39;49m\u001b[38;5;241;43m.\u001b[39;49m\u001b[43m_fit_irls\u001b[49m\u001b[43m(\u001b[49m\u001b[43mstart_params\u001b[49m\u001b[38;5;241;43m=\u001b[39;49m\u001b[43mstart_params\u001b[49m\u001b[43m,\u001b[49m\u001b[43m \u001b[49m\u001b[43mmaxiter\u001b[49m\u001b[38;5;241;43m=\u001b[39;49m\u001b[43mmaxiter\u001b[49m\u001b[43m,\u001b[49m\n\u001b[1;32m   1193\u001b[0m \u001b[43m                          \u001b[49m\u001b[43mtol\u001b[49m\u001b[38;5;241;43m=\u001b[39;49m\u001b[43mtol\u001b[49m\u001b[43m,\u001b[49m\u001b[43m \u001b[49m\u001b[43mscale\u001b[49m\u001b[38;5;241;43m=\u001b[39;49m\u001b[43mscale\u001b[49m\u001b[43m,\u001b[49m\u001b[43m \u001b[49m\u001b[43mcov_type\u001b[49m\u001b[38;5;241;43m=\u001b[39;49m\u001b[43mcov_type\u001b[49m\u001b[43m,\u001b[49m\n\u001b[1;32m   1194\u001b[0m \u001b[43m                          \u001b[49m\u001b[43mcov_kwds\u001b[49m\u001b[38;5;241;43m=\u001b[39;49m\u001b[43mcov_kwds\u001b[49m\u001b[43m,\u001b[49m\u001b[43m \u001b[49m\u001b[43muse_t\u001b[49m\u001b[38;5;241;43m=\u001b[39;49m\u001b[43muse_t\u001b[49m\u001b[43m,\u001b[49m\u001b[43m \u001b[49m\u001b[38;5;241;43m*\u001b[39;49m\u001b[38;5;241;43m*\u001b[39;49m\u001b[43mkwargs\u001b[49m\u001b[43m)\u001b[49m\n\u001b[1;32m   1195\u001b[0m \u001b[38;5;28;01melse\u001b[39;00m:\n\u001b[1;32m   1196\u001b[0m     \u001b[38;5;28mself\u001b[39m\u001b[38;5;241m.\u001b[39m_optim_hessian \u001b[38;5;241m=\u001b[39m kwargs\u001b[38;5;241m.\u001b[39mget(\u001b[38;5;124m'\u001b[39m\u001b[38;5;124moptim_hessian\u001b[39m\u001b[38;5;124m'\u001b[39m)\n",
      "File \u001b[0;32m~/.usr/local/pioneer/python/3.10.4/lib/python3.10/site-packages/statsmodels/genmod/generalized_linear_model.py:1330\u001b[0m, in \u001b[0;36mGLM._fit_irls\u001b[0;34m(self, start_params, maxiter, tol, scale, cov_type, cov_kwds, use_t, **kwargs)\u001b[0m\n\u001b[1;32m   1326\u001b[0m \u001b[38;5;28mself\u001b[39m\u001b[38;5;241m.\u001b[39mweights \u001b[38;5;241m=\u001b[39m (\u001b[38;5;28mself\u001b[39m\u001b[38;5;241m.\u001b[39miweights \u001b[38;5;241m*\u001b[39m \u001b[38;5;28mself\u001b[39m\u001b[38;5;241m.\u001b[39mn_trials \u001b[38;5;241m*\u001b[39m\n\u001b[1;32m   1327\u001b[0m                 \u001b[38;5;28mself\u001b[39m\u001b[38;5;241m.\u001b[39mfamily\u001b[38;5;241m.\u001b[39mweights(mu))\n\u001b[1;32m   1328\u001b[0m wlsendog \u001b[38;5;241m=\u001b[39m (lin_pred \u001b[38;5;241m+\u001b[39m \u001b[38;5;28mself\u001b[39m\u001b[38;5;241m.\u001b[39mfamily\u001b[38;5;241m.\u001b[39mlink\u001b[38;5;241m.\u001b[39mderiv(mu) \u001b[38;5;241m*\u001b[39m (\u001b[38;5;28mself\u001b[39m\u001b[38;5;241m.\u001b[39mendog\u001b[38;5;241m-\u001b[39mmu)\n\u001b[1;32m   1329\u001b[0m             \u001b[38;5;241m-\u001b[39m \u001b[38;5;28mself\u001b[39m\u001b[38;5;241m.\u001b[39m_offset_exposure)\n\u001b[0;32m-> 1330\u001b[0m wls_mod \u001b[38;5;241m=\u001b[39m \u001b[43mreg_tools\u001b[49m\u001b[38;5;241;43m.\u001b[39;49m\u001b[43m_MinimalWLS\u001b[49m\u001b[43m(\u001b[49m\u001b[43mwlsendog\u001b[49m\u001b[43m,\u001b[49m\u001b[43m \u001b[49m\u001b[43mwlsexog\u001b[49m\u001b[43m,\u001b[49m\n\u001b[1;32m   1331\u001b[0m \u001b[43m                                \u001b[49m\u001b[38;5;28;43mself\u001b[39;49m\u001b[38;5;241;43m.\u001b[39;49m\u001b[43mweights\u001b[49m\u001b[43m,\u001b[49m\u001b[43m \u001b[49m\u001b[43mcheck_endog\u001b[49m\u001b[38;5;241;43m=\u001b[39;49m\u001b[38;5;28;43;01mTrue\u001b[39;49;00m\u001b[43m,\u001b[49m\n\u001b[1;32m   1332\u001b[0m \u001b[43m                                \u001b[49m\u001b[43mcheck_weights\u001b[49m\u001b[38;5;241;43m=\u001b[39;49m\u001b[38;5;28;43;01mTrue\u001b[39;49;00m\u001b[43m)\u001b[49m\n\u001b[1;32m   1333\u001b[0m wls_results \u001b[38;5;241m=\u001b[39m wls_mod\u001b[38;5;241m.\u001b[39mfit(method\u001b[38;5;241m=\u001b[39mwls_method)\n\u001b[1;32m   1334\u001b[0m lin_pred \u001b[38;5;241m=\u001b[39m np\u001b[38;5;241m.\u001b[39mdot(\u001b[38;5;28mself\u001b[39m\u001b[38;5;241m.\u001b[39mexog, wls_results\u001b[38;5;241m.\u001b[39mparams)\n",
      "\u001b[0;31mKeyboardInterrupt\u001b[0m: "
     ]
    }
   ],
   "source": [
    "adata_res_filtered = adata_res_filtered[:, adata_res_filtered.var.highly_variable]\n",
    "sc.pp.regress_out(adata_res_filtered, ['total_counts', 'pct_counts_mt'])\n",
    "sc.pp.scale(adata_res_filtered, max_value=10)"
   ]
  },
  {
   "cell_type": "markdown",
   "id": "da4538e0",
   "metadata": {},
   "source": [
    "## Principal component analysis (PCA)"
   ]
  },
  {
   "cell_type": "code",
   "execution_count": null,
   "id": "dfbde313",
   "metadata": {},
   "outputs": [],
   "source": [
    "sc.tl.pca(adata_fus_filtered, svd_solver='arpack')\n",
    "sc.tl.pca(adata_res_filtered, svd_solver='arpack')\n",
    "sc.tl.pca(adata_par_filtered, svd_solver='arpack')"
   ]
  },
  {
   "cell_type": "markdown",
   "id": "d7f22386",
   "metadata": {},
   "source": [
    "AttributeError: 'ColormapRegistry' object has no attribute 'get_cmap'\n",
    "\n",
    "Stack Overflow said to downgrade to pandas==1.5.3 to solve.\n",
    "\n",
    "...didn't work trying other options including updating matplotlib"
   ]
  },
  {
   "cell_type": "code",
   "execution_count": null,
   "id": "90d1fc87",
   "metadata": {},
   "outputs": [],
   "source": [
    "sc.pl.pca(adata_fus_filtered, save='_pca_fused')\n",
    "sc.pl.pca(adata_par_filtered, save='_pca_parental')\n",
    "sc.pl.pca(adata_res_filtered, save='_pca_resistant')"
   ]
  },
  {
   "cell_type": "code",
   "execution_count": null,
   "id": "53ebc9e9",
   "metadata": {},
   "outputs": [],
   "source": [
    "print(adata_par_filtered)"
   ]
  },
  {
   "cell_type": "markdown",
   "id": "7f533e78",
   "metadata": {},
   "source": [
    "# Analyses we're interested in post-tutorial:\n",
    "\n",
    "(0) (boring)validate: do we see the same info? same highly expressed genes?\n",
    "\n",
    "(1) Gene set enrichment (GSE) + comparison b/n populations of cells (difference b/n bulk?)\n",
    "\n",
    "(2) Which distinct transcript(s) are being highly expressed (select the genes based on sc-data and identify which transcripts for each were identified in bulk)\n",
    "\n",
    "(3) create expression profiles for relevant fusogens: Syncytin-1 and syncytin-2; sars-cov-2 (spike protein)\n",
    "\n",
    "(4) synthetic lethality question: can we identify gene fusions --> conclusions on lack of necessity for cell life (if associated with translocations/gene breaks etc.)\n",
    "\n",
    "(5)(!!!!) are there chromosomal relationships/proximities at play?\n",
    "    --hot/cold expression profiles in a chromosomal way/ mapping to the chromosomes\n",
    "    \n",
    "     null: random and not chromosomally-defined\n",
    "     if yes: topologically associated domains/mapping\n",
    "     follow-up: mutation frequency shifts associated with those regions\n",
    "     \n",
    "Bulk-seq:\n",
    "(1) identify fused-genes in transcripts (not tagged in sc so won't show up)\n",
    "\n",
    "\n",
    "    \n",
    "  "
   ]
  },
  {
   "cell_type": "code",
   "execution_count": null,
   "id": "0d3068aa",
   "metadata": {},
   "outputs": [],
   "source": []
  }
 ],
 "metadata": {
  "kernelspec": {
   "display_name": "Python 3 (ipykernel)",
   "language": "python",
   "name": "python3"
  },
  "language_info": {
   "codemirror_mode": {
    "name": "ipython",
    "version": 3
   },
   "file_extension": ".py",
   "mimetype": "text/x-python",
   "name": "python",
   "nbconvert_exporter": "python",
   "pygments_lexer": "ipython3",
   "version": "3.8.8"
  }
 },
 "nbformat": 4,
 "nbformat_minor": 5
}
